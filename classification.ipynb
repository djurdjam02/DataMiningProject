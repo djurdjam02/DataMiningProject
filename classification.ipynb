{
 "cells": [
  {
   "cell_type": "markdown",
   "id": "6fb2175a-fcbf-4e9a-be39-8896ed5a7cf5",
   "metadata": {
    "id": "6fb2175a-fcbf-4e9a-be39-8896ed5a7cf5"
   },
   "source": [
    "## Classification on data set March_2024_AF2_01.txt. The target attribute is structure name.\n"
   ]
  },
  {
   "cell_type": "code",
   "execution_count": 8,
   "id": "c92f98a5-3ff6-4191-a732-644f39721486",
   "metadata": {
    "id": "c92f98a5-3ff6-4191-a732-644f39721486"
   },
   "outputs": [],
   "source": [
    "import pandas as pd"
   ]
  },
  {
   "cell_type": "code",
   "execution_count": 9,
   "id": "f5067cb3-6e9f-4bf9-a019-d3d8f91e6971",
   "metadata": {
    "colab": {
     "base_uri": "https://localhost:8080/",
     "height": 424
    },
    "id": "f5067cb3-6e9f-4bf9-a019-d3d8f91e6971",
    "outputId": "43266e44-7b33-4acc-94fd-c8ffa96e4e9e"
   },
   "outputs": [
    {
     "data": {
      "text/html": [
       "<div>\n",
       "<style scoped>\n",
       "    .dataframe tbody tr th:only-of-type {\n",
       "        vertical-align: middle;\n",
       "    }\n",
       "\n",
       "    .dataframe tbody tr th {\n",
       "        vertical-align: top;\n",
       "    }\n",
       "\n",
       "    .dataframe thead th {\n",
       "        text-align: right;\n",
       "    }\n",
       "</style>\n",
       "<table border=\"1\" class=\"dataframe\">\n",
       "  <thead>\n",
       "    <tr style=\"text-align: right;\">\n",
       "      <th></th>\n",
       "      <th>Protein_number</th>\n",
       "      <th>res_number</th>\n",
       "      <th>PB1</th>\n",
       "      <th>PB2</th>\n",
       "      <th>AA1</th>\n",
       "      <th>AA2</th>\n",
       "      <th>S2_1</th>\n",
       "      <th>S2_2</th>\n",
       "      <th>expected_frequency</th>\n",
       "      <th>plDDT</th>\n",
       "      <th>RSA1</th>\n",
       "      <th>RSA2</th>\n",
       "    </tr>\n",
       "  </thead>\n",
       "  <tbody>\n",
       "    <tr>\n",
       "      <th>0</th>\n",
       "      <td>0</td>\n",
       "      <td>7</td>\n",
       "      <td>j</td>\n",
       "      <td>j</td>\n",
       "      <td>G</td>\n",
       "      <td>G</td>\n",
       "      <td>C</td>\n",
       "      <td>S</td>\n",
       "      <td>0.880055</td>\n",
       "      <td>60.180000</td>\n",
       "      <td>100.000000</td>\n",
       "      <td>100.000000</td>\n",
       "    </tr>\n",
       "    <tr>\n",
       "      <th>1</th>\n",
       "      <td>1</td>\n",
       "      <td>95</td>\n",
       "      <td>n</td>\n",
       "      <td>l</td>\n",
       "      <td>E</td>\n",
       "      <td>Q</td>\n",
       "      <td>T</td>\n",
       "      <td>T</td>\n",
       "      <td>0.736402</td>\n",
       "      <td>96.220001</td>\n",
       "      <td>89.762611</td>\n",
       "      <td>98.582039</td>\n",
       "    </tr>\n",
       "    <tr>\n",
       "      <th>2</th>\n",
       "      <td>1</td>\n",
       "      <td>219</td>\n",
       "      <td>i</td>\n",
       "      <td>d</td>\n",
       "      <td>G</td>\n",
       "      <td>N</td>\n",
       "      <td>S</td>\n",
       "      <td>C</td>\n",
       "      <td>0.040571</td>\n",
       "      <td>31.870001</td>\n",
       "      <td>100.000000</td>\n",
       "      <td>100.000000</td>\n",
       "    </tr>\n",
       "    <tr>\n",
       "      <th>3</th>\n",
       "      <td>1</td>\n",
       "      <td>222</td>\n",
       "      <td>d</td>\n",
       "      <td>i</td>\n",
       "      <td>T</td>\n",
       "      <td>V</td>\n",
       "      <td>C</td>\n",
       "      <td>C</td>\n",
       "      <td>0.021758</td>\n",
       "      <td>47.259998</td>\n",
       "      <td>100.000000</td>\n",
       "      <td>100.000000</td>\n",
       "    </tr>\n",
       "    <tr>\n",
       "      <th>4</th>\n",
       "      <td>1</td>\n",
       "      <td>223</td>\n",
       "      <td>i</td>\n",
       "      <td>d</td>\n",
       "      <td>V</td>\n",
       "      <td>P</td>\n",
       "      <td>C</td>\n",
       "      <td>C</td>\n",
       "      <td>0.040571</td>\n",
       "      <td>38.200001</td>\n",
       "      <td>100.000000</td>\n",
       "      <td>93.366096</td>\n",
       "    </tr>\n",
       "    <tr>\n",
       "      <th>...</th>\n",
       "      <td>...</td>\n",
       "      <td>...</td>\n",
       "      <td>...</td>\n",
       "      <td>...</td>\n",
       "      <td>...</td>\n",
       "      <td>...</td>\n",
       "      <td>...</td>\n",
       "      <td>...</td>\n",
       "      <td>...</td>\n",
       "      <td>...</td>\n",
       "      <td>...</td>\n",
       "      <td>...</td>\n",
       "    </tr>\n",
       "    <tr>\n",
       "      <th>671150</th>\n",
       "      <td>23508</td>\n",
       "      <td>14909273</td>\n",
       "      <td>j</td>\n",
       "      <td>d</td>\n",
       "      <td>G</td>\n",
       "      <td>L</td>\n",
       "      <td>C</td>\n",
       "      <td>C</td>\n",
       "      <td>0.623739</td>\n",
       "      <td>95.459999</td>\n",
       "      <td>1.531394</td>\n",
       "      <td>20.793951</td>\n",
       "    </tr>\n",
       "    <tr>\n",
       "      <th>671151</th>\n",
       "      <td>23508</td>\n",
       "      <td>14909291</td>\n",
       "      <td>f</td>\n",
       "      <td>d</td>\n",
       "      <td>C</td>\n",
       "      <td>D</td>\n",
       "      <td>P</td>\n",
       "      <td>S</td>\n",
       "      <td>0.047665</td>\n",
       "      <td>95.379997</td>\n",
       "      <td>11.473963</td>\n",
       "      <td>100.000000</td>\n",
       "    </tr>\n",
       "    <tr>\n",
       "      <th>671152</th>\n",
       "      <td>23508</td>\n",
       "      <td>14909390</td>\n",
       "      <td>j</td>\n",
       "      <td>d</td>\n",
       "      <td>G</td>\n",
       "      <td>P</td>\n",
       "      <td>S</td>\n",
       "      <td>P</td>\n",
       "      <td>0.623739</td>\n",
       "      <td>80.699997</td>\n",
       "      <td>65.849922</td>\n",
       "      <td>88.452087</td>\n",
       "    </tr>\n",
       "    <tr>\n",
       "      <th>671153</th>\n",
       "      <td>23508</td>\n",
       "      <td>14909434</td>\n",
       "      <td>g</td>\n",
       "      <td>f</td>\n",
       "      <td>L</td>\n",
       "      <td>T</td>\n",
       "      <td>C</td>\n",
       "      <td>C</td>\n",
       "      <td>0.430306</td>\n",
       "      <td>79.760002</td>\n",
       "      <td>60.491493</td>\n",
       "      <td>46.452702</td>\n",
       "    </tr>\n",
       "    <tr>\n",
       "      <th>671154</th>\n",
       "      <td>23510</td>\n",
       "      <td>14909671</td>\n",
       "      <td>b</td>\n",
       "      <td>b</td>\n",
       "      <td>S</td>\n",
       "      <td>L</td>\n",
       "      <td>S</td>\n",
       "      <td>C</td>\n",
       "      <td>0.642419</td>\n",
       "      <td>54.230000</td>\n",
       "      <td>100.000000</td>\n",
       "      <td>95.778198</td>\n",
       "    </tr>\n",
       "  </tbody>\n",
       "</table>\n",
       "<p>671155 rows × 12 columns</p>\n",
       "</div>"
      ],
      "text/plain": [
       "        Protein_number  res_number PB1 PB2 AA1 AA2 S2_1 S2_2  \\\n",
       "0                    0           7   j   j   G   G    C    S   \n",
       "1                    1          95   n   l   E   Q    T    T   \n",
       "2                    1         219   i   d   G   N    S    C   \n",
       "3                    1         222   d   i   T   V    C    C   \n",
       "4                    1         223   i   d   V   P    C    C   \n",
       "...                ...         ...  ..  ..  ..  ..  ...  ...   \n",
       "671150           23508    14909273   j   d   G   L    C    C   \n",
       "671151           23508    14909291   f   d   C   D    P    S   \n",
       "671152           23508    14909390   j   d   G   P    S    P   \n",
       "671153           23508    14909434   g   f   L   T    C    C   \n",
       "671154           23510    14909671   b   b   S   L    S    C   \n",
       "\n",
       "        expected_frequency      plDDT        RSA1        RSA2  \n",
       "0                 0.880055  60.180000  100.000000  100.000000  \n",
       "1                 0.736402  96.220001   89.762611   98.582039  \n",
       "2                 0.040571  31.870001  100.000000  100.000000  \n",
       "3                 0.021758  47.259998  100.000000  100.000000  \n",
       "4                 0.040571  38.200001  100.000000   93.366096  \n",
       "...                    ...        ...         ...         ...  \n",
       "671150            0.623739  95.459999    1.531394   20.793951  \n",
       "671151            0.047665  95.379997   11.473963  100.000000  \n",
       "671152            0.623739  80.699997   65.849922   88.452087  \n",
       "671153            0.430306  79.760002   60.491493   46.452702  \n",
       "671154            0.642419  54.230000  100.000000   95.778198  \n",
       "\n",
       "[671155 rows x 12 columns]"
      ]
     },
     "execution_count": 9,
     "metadata": {},
     "output_type": "execute_result"
    }
   ],
   "source": [
    "df = pd.read_csv(\"March_2024_AF2_01.txt\", sep=r\"\\s+\", header=None)\n",
    "df.columns = ['Protein_number', 'res_number', 'PB1', 'PB2', 'AA1', 'AA2', 'S2_1', 'S2_2', 'expected_frequency', 'plDDT', 'RSA1', 'RSA2']\n",
    "df"
   ]
  },
  {
   "cell_type": "code",
   "execution_count": 10,
   "id": "b03f351e-1118-4ea6-a23f-abb3705815b4",
   "metadata": {
    "id": "b03f351e-1118-4ea6-a23f-abb3705815b4"
   },
   "outputs": [],
   "source": [
    "def concat_structures(data, rm_columns : list, req_col_str : str):\n",
    "    \"\"\"\n",
    "    Input:\n",
    "        - data: DataFrame to be processed (a copy is used to avoid modifying the original).\n",
    "        - rm_columns: List of column names (strings) to be removed.\n",
    "        - req_col_str: String of a new column name with \"-\" indicating concatenation.\n",
    "    Output:\n",
    "        - A modified copy of the DataFrame with the requested changes.\n",
    "    \"\"\"\n",
    "    data = data.copy()\n",
    "    data = data.drop(list(('Protein_number', 'res_number')), axis=1)\n",
    "    data[req_col_str] = \"\"\n",
    "    for req_col in req_col_str.split('-'):\n",
    "        data[req_col_str] += data[req_col]\n",
    "    data = data.drop(rm_columns, axis=1)\n",
    "    return data"
   ]
  },
  {
   "cell_type": "code",
   "execution_count": 11,
   "id": "6201632b-4cdf-4677-a742-ba784d6f68b2",
   "metadata": {
    "colab": {
     "base_uri": "https://localhost:8080/",
     "height": 424
    },
    "id": "6201632b-4cdf-4677-a742-ba784d6f68b2",
    "outputId": "28df3402-fbaf-45c6-813e-e49d75145e4e"
   },
   "outputs": [
    {
     "data": {
      "text/html": [
       "<div>\n",
       "<style scoped>\n",
       "    .dataframe tbody tr th:only-of-type {\n",
       "        vertical-align: middle;\n",
       "    }\n",
       "\n",
       "    .dataframe tbody tr th {\n",
       "        vertical-align: top;\n",
       "    }\n",
       "\n",
       "    .dataframe thead th {\n",
       "        text-align: right;\n",
       "    }\n",
       "</style>\n",
       "<table border=\"1\" class=\"dataframe\">\n",
       "  <thead>\n",
       "    <tr style=\"text-align: right;\">\n",
       "      <th></th>\n",
       "      <th>PB1</th>\n",
       "      <th>PB2</th>\n",
       "      <th>S2_1</th>\n",
       "      <th>S2_2</th>\n",
       "      <th>expected_frequency</th>\n",
       "      <th>plDDT</th>\n",
       "      <th>RSA1</th>\n",
       "      <th>RSA2</th>\n",
       "      <th>AA1-AA2</th>\n",
       "    </tr>\n",
       "  </thead>\n",
       "  <tbody>\n",
       "    <tr>\n",
       "      <th>0</th>\n",
       "      <td>j</td>\n",
       "      <td>j</td>\n",
       "      <td>C</td>\n",
       "      <td>S</td>\n",
       "      <td>0.880055</td>\n",
       "      <td>60.180000</td>\n",
       "      <td>100.000000</td>\n",
       "      <td>100.000000</td>\n",
       "      <td>GG</td>\n",
       "    </tr>\n",
       "    <tr>\n",
       "      <th>1</th>\n",
       "      <td>n</td>\n",
       "      <td>l</td>\n",
       "      <td>T</td>\n",
       "      <td>T</td>\n",
       "      <td>0.736402</td>\n",
       "      <td>96.220001</td>\n",
       "      <td>89.762611</td>\n",
       "      <td>98.582039</td>\n",
       "      <td>EQ</td>\n",
       "    </tr>\n",
       "    <tr>\n",
       "      <th>2</th>\n",
       "      <td>i</td>\n",
       "      <td>d</td>\n",
       "      <td>S</td>\n",
       "      <td>C</td>\n",
       "      <td>0.040571</td>\n",
       "      <td>31.870001</td>\n",
       "      <td>100.000000</td>\n",
       "      <td>100.000000</td>\n",
       "      <td>GN</td>\n",
       "    </tr>\n",
       "    <tr>\n",
       "      <th>3</th>\n",
       "      <td>d</td>\n",
       "      <td>i</td>\n",
       "      <td>C</td>\n",
       "      <td>C</td>\n",
       "      <td>0.021758</td>\n",
       "      <td>47.259998</td>\n",
       "      <td>100.000000</td>\n",
       "      <td>100.000000</td>\n",
       "      <td>TV</td>\n",
       "    </tr>\n",
       "    <tr>\n",
       "      <th>4</th>\n",
       "      <td>i</td>\n",
       "      <td>d</td>\n",
       "      <td>C</td>\n",
       "      <td>C</td>\n",
       "      <td>0.040571</td>\n",
       "      <td>38.200001</td>\n",
       "      <td>100.000000</td>\n",
       "      <td>93.366096</td>\n",
       "      <td>VP</td>\n",
       "    </tr>\n",
       "    <tr>\n",
       "      <th>...</th>\n",
       "      <td>...</td>\n",
       "      <td>...</td>\n",
       "      <td>...</td>\n",
       "      <td>...</td>\n",
       "      <td>...</td>\n",
       "      <td>...</td>\n",
       "      <td>...</td>\n",
       "      <td>...</td>\n",
       "      <td>...</td>\n",
       "    </tr>\n",
       "    <tr>\n",
       "      <th>671150</th>\n",
       "      <td>j</td>\n",
       "      <td>d</td>\n",
       "      <td>C</td>\n",
       "      <td>C</td>\n",
       "      <td>0.623739</td>\n",
       "      <td>95.459999</td>\n",
       "      <td>1.531394</td>\n",
       "      <td>20.793951</td>\n",
       "      <td>GL</td>\n",
       "    </tr>\n",
       "    <tr>\n",
       "      <th>671151</th>\n",
       "      <td>f</td>\n",
       "      <td>d</td>\n",
       "      <td>P</td>\n",
       "      <td>S</td>\n",
       "      <td>0.047665</td>\n",
       "      <td>95.379997</td>\n",
       "      <td>11.473963</td>\n",
       "      <td>100.000000</td>\n",
       "      <td>CD</td>\n",
       "    </tr>\n",
       "    <tr>\n",
       "      <th>671152</th>\n",
       "      <td>j</td>\n",
       "      <td>d</td>\n",
       "      <td>S</td>\n",
       "      <td>P</td>\n",
       "      <td>0.623739</td>\n",
       "      <td>80.699997</td>\n",
       "      <td>65.849922</td>\n",
       "      <td>88.452087</td>\n",
       "      <td>GP</td>\n",
       "    </tr>\n",
       "    <tr>\n",
       "      <th>671153</th>\n",
       "      <td>g</td>\n",
       "      <td>f</td>\n",
       "      <td>C</td>\n",
       "      <td>C</td>\n",
       "      <td>0.430306</td>\n",
       "      <td>79.760002</td>\n",
       "      <td>60.491493</td>\n",
       "      <td>46.452702</td>\n",
       "      <td>LT</td>\n",
       "    </tr>\n",
       "    <tr>\n",
       "      <th>671154</th>\n",
       "      <td>b</td>\n",
       "      <td>b</td>\n",
       "      <td>S</td>\n",
       "      <td>C</td>\n",
       "      <td>0.642419</td>\n",
       "      <td>54.230000</td>\n",
       "      <td>100.000000</td>\n",
       "      <td>95.778198</td>\n",
       "      <td>SL</td>\n",
       "    </tr>\n",
       "  </tbody>\n",
       "</table>\n",
       "<p>671155 rows × 9 columns</p>\n",
       "</div>"
      ],
      "text/plain": [
       "       PB1 PB2 S2_1 S2_2  expected_frequency      plDDT        RSA1  \\\n",
       "0        j   j    C    S            0.880055  60.180000  100.000000   \n",
       "1        n   l    T    T            0.736402  96.220001   89.762611   \n",
       "2        i   d    S    C            0.040571  31.870001  100.000000   \n",
       "3        d   i    C    C            0.021758  47.259998  100.000000   \n",
       "4        i   d    C    C            0.040571  38.200001  100.000000   \n",
       "...     ..  ..  ...  ...                 ...        ...         ...   \n",
       "671150   j   d    C    C            0.623739  95.459999    1.531394   \n",
       "671151   f   d    P    S            0.047665  95.379997   11.473963   \n",
       "671152   j   d    S    P            0.623739  80.699997   65.849922   \n",
       "671153   g   f    C    C            0.430306  79.760002   60.491493   \n",
       "671154   b   b    S    C            0.642419  54.230000  100.000000   \n",
       "\n",
       "              RSA2 AA1-AA2  \n",
       "0       100.000000      GG  \n",
       "1        98.582039      EQ  \n",
       "2       100.000000      GN  \n",
       "3       100.000000      TV  \n",
       "4        93.366096      VP  \n",
       "...            ...     ...  \n",
       "671150   20.793951      GL  \n",
       "671151  100.000000      CD  \n",
       "671152   88.452087      GP  \n",
       "671153   46.452702      LT  \n",
       "671154   95.778198      SL  \n",
       "\n",
       "[671155 rows x 9 columns]"
      ]
     },
     "execution_count": 11,
     "metadata": {},
     "output_type": "execute_result"
    }
   ],
   "source": [
    "df1 = concat_structures(df, list(('AA1', 'AA2')), 'AA1-AA2')\n",
    "df1"
   ]
  },
  {
   "cell_type": "code",
   "execution_count": 12,
   "id": "ca16c257-e39a-452a-a88e-4726cd3fdda7",
   "metadata": {
    "colab": {
     "base_uri": "https://localhost:8080/",
     "height": 424
    },
    "id": "ca16c257-e39a-452a-a88e-4726cd3fdda7",
    "outputId": "583c5e42-e0d9-45e6-fbde-56b066a0717d"
   },
   "outputs": [
    {
     "data": {
      "text/html": [
       "<div>\n",
       "<style scoped>\n",
       "    .dataframe tbody tr th:only-of-type {\n",
       "        vertical-align: middle;\n",
       "    }\n",
       "\n",
       "    .dataframe tbody tr th {\n",
       "        vertical-align: top;\n",
       "    }\n",
       "\n",
       "    .dataframe thead th {\n",
       "        text-align: right;\n",
       "    }\n",
       "</style>\n",
       "<table border=\"1\" class=\"dataframe\">\n",
       "  <thead>\n",
       "    <tr style=\"text-align: right;\">\n",
       "      <th></th>\n",
       "      <th>AA1</th>\n",
       "      <th>AA2</th>\n",
       "      <th>S2_1</th>\n",
       "      <th>S2_2</th>\n",
       "      <th>expected_frequency</th>\n",
       "      <th>plDDT</th>\n",
       "      <th>RSA1</th>\n",
       "      <th>RSA2</th>\n",
       "      <th>PB1-PB2</th>\n",
       "    </tr>\n",
       "  </thead>\n",
       "  <tbody>\n",
       "    <tr>\n",
       "      <th>0</th>\n",
       "      <td>G</td>\n",
       "      <td>G</td>\n",
       "      <td>C</td>\n",
       "      <td>S</td>\n",
       "      <td>0.880055</td>\n",
       "      <td>60.180000</td>\n",
       "      <td>100.000000</td>\n",
       "      <td>100.000000</td>\n",
       "      <td>jj</td>\n",
       "    </tr>\n",
       "    <tr>\n",
       "      <th>1</th>\n",
       "      <td>E</td>\n",
       "      <td>Q</td>\n",
       "      <td>T</td>\n",
       "      <td>T</td>\n",
       "      <td>0.736402</td>\n",
       "      <td>96.220001</td>\n",
       "      <td>89.762611</td>\n",
       "      <td>98.582039</td>\n",
       "      <td>nl</td>\n",
       "    </tr>\n",
       "    <tr>\n",
       "      <th>2</th>\n",
       "      <td>G</td>\n",
       "      <td>N</td>\n",
       "      <td>S</td>\n",
       "      <td>C</td>\n",
       "      <td>0.040571</td>\n",
       "      <td>31.870001</td>\n",
       "      <td>100.000000</td>\n",
       "      <td>100.000000</td>\n",
       "      <td>id</td>\n",
       "    </tr>\n",
       "    <tr>\n",
       "      <th>3</th>\n",
       "      <td>T</td>\n",
       "      <td>V</td>\n",
       "      <td>C</td>\n",
       "      <td>C</td>\n",
       "      <td>0.021758</td>\n",
       "      <td>47.259998</td>\n",
       "      <td>100.000000</td>\n",
       "      <td>100.000000</td>\n",
       "      <td>di</td>\n",
       "    </tr>\n",
       "    <tr>\n",
       "      <th>4</th>\n",
       "      <td>V</td>\n",
       "      <td>P</td>\n",
       "      <td>C</td>\n",
       "      <td>C</td>\n",
       "      <td>0.040571</td>\n",
       "      <td>38.200001</td>\n",
       "      <td>100.000000</td>\n",
       "      <td>93.366096</td>\n",
       "      <td>id</td>\n",
       "    </tr>\n",
       "    <tr>\n",
       "      <th>...</th>\n",
       "      <td>...</td>\n",
       "      <td>...</td>\n",
       "      <td>...</td>\n",
       "      <td>...</td>\n",
       "      <td>...</td>\n",
       "      <td>...</td>\n",
       "      <td>...</td>\n",
       "      <td>...</td>\n",
       "      <td>...</td>\n",
       "    </tr>\n",
       "    <tr>\n",
       "      <th>671150</th>\n",
       "      <td>G</td>\n",
       "      <td>L</td>\n",
       "      <td>C</td>\n",
       "      <td>C</td>\n",
       "      <td>0.623739</td>\n",
       "      <td>95.459999</td>\n",
       "      <td>1.531394</td>\n",
       "      <td>20.793951</td>\n",
       "      <td>jd</td>\n",
       "    </tr>\n",
       "    <tr>\n",
       "      <th>671151</th>\n",
       "      <td>C</td>\n",
       "      <td>D</td>\n",
       "      <td>P</td>\n",
       "      <td>S</td>\n",
       "      <td>0.047665</td>\n",
       "      <td>95.379997</td>\n",
       "      <td>11.473963</td>\n",
       "      <td>100.000000</td>\n",
       "      <td>fd</td>\n",
       "    </tr>\n",
       "    <tr>\n",
       "      <th>671152</th>\n",
       "      <td>G</td>\n",
       "      <td>P</td>\n",
       "      <td>S</td>\n",
       "      <td>P</td>\n",
       "      <td>0.623739</td>\n",
       "      <td>80.699997</td>\n",
       "      <td>65.849922</td>\n",
       "      <td>88.452087</td>\n",
       "      <td>jd</td>\n",
       "    </tr>\n",
       "    <tr>\n",
       "      <th>671153</th>\n",
       "      <td>L</td>\n",
       "      <td>T</td>\n",
       "      <td>C</td>\n",
       "      <td>C</td>\n",
       "      <td>0.430306</td>\n",
       "      <td>79.760002</td>\n",
       "      <td>60.491493</td>\n",
       "      <td>46.452702</td>\n",
       "      <td>gf</td>\n",
       "    </tr>\n",
       "    <tr>\n",
       "      <th>671154</th>\n",
       "      <td>S</td>\n",
       "      <td>L</td>\n",
       "      <td>S</td>\n",
       "      <td>C</td>\n",
       "      <td>0.642419</td>\n",
       "      <td>54.230000</td>\n",
       "      <td>100.000000</td>\n",
       "      <td>95.778198</td>\n",
       "      <td>bb</td>\n",
       "    </tr>\n",
       "  </tbody>\n",
       "</table>\n",
       "<p>671155 rows × 9 columns</p>\n",
       "</div>"
      ],
      "text/plain": [
       "       AA1 AA2 S2_1 S2_2  expected_frequency      plDDT        RSA1  \\\n",
       "0        G   G    C    S            0.880055  60.180000  100.000000   \n",
       "1        E   Q    T    T            0.736402  96.220001   89.762611   \n",
       "2        G   N    S    C            0.040571  31.870001  100.000000   \n",
       "3        T   V    C    C            0.021758  47.259998  100.000000   \n",
       "4        V   P    C    C            0.040571  38.200001  100.000000   \n",
       "...     ..  ..  ...  ...                 ...        ...         ...   \n",
       "671150   G   L    C    C            0.623739  95.459999    1.531394   \n",
       "671151   C   D    P    S            0.047665  95.379997   11.473963   \n",
       "671152   G   P    S    P            0.623739  80.699997   65.849922   \n",
       "671153   L   T    C    C            0.430306  79.760002   60.491493   \n",
       "671154   S   L    S    C            0.642419  54.230000  100.000000   \n",
       "\n",
       "              RSA2 PB1-PB2  \n",
       "0       100.000000      jj  \n",
       "1        98.582039      nl  \n",
       "2       100.000000      id  \n",
       "3       100.000000      di  \n",
       "4        93.366096      id  \n",
       "...            ...     ...  \n",
       "671150   20.793951      jd  \n",
       "671151  100.000000      fd  \n",
       "671152   88.452087      jd  \n",
       "671153   46.452702      gf  \n",
       "671154   95.778198      bb  \n",
       "\n",
       "[671155 rows x 9 columns]"
      ]
     },
     "execution_count": 12,
     "metadata": {},
     "output_type": "execute_result"
    }
   ],
   "source": [
    "df2 = concat_structures(df, list(('PB1', 'PB2')), 'PB1-PB2')\n",
    "df2"
   ]
  },
  {
   "cell_type": "code",
   "execution_count": 13,
   "id": "ee33e5c2-4c47-43c8-a5dd-d2a3f5ab3370",
   "metadata": {
    "colab": {
     "base_uri": "https://localhost:8080/",
     "height": 424
    },
    "id": "ee33e5c2-4c47-43c8-a5dd-d2a3f5ab3370",
    "outputId": "be6ba012-11ab-4d45-b4d7-d392a2159d95"
   },
   "outputs": [
    {
     "data": {
      "text/html": [
       "<div>\n",
       "<style scoped>\n",
       "    .dataframe tbody tr th:only-of-type {\n",
       "        vertical-align: middle;\n",
       "    }\n",
       "\n",
       "    .dataframe tbody tr th {\n",
       "        vertical-align: top;\n",
       "    }\n",
       "\n",
       "    .dataframe thead th {\n",
       "        text-align: right;\n",
       "    }\n",
       "</style>\n",
       "<table border=\"1\" class=\"dataframe\">\n",
       "  <thead>\n",
       "    <tr style=\"text-align: right;\">\n",
       "      <th></th>\n",
       "      <th>PB1</th>\n",
       "      <th>PB2</th>\n",
       "      <th>AA1</th>\n",
       "      <th>AA2</th>\n",
       "      <th>expected_frequency</th>\n",
       "      <th>plDDT</th>\n",
       "      <th>RSA1</th>\n",
       "      <th>RSA2</th>\n",
       "      <th>S2_1-S2_2</th>\n",
       "    </tr>\n",
       "  </thead>\n",
       "  <tbody>\n",
       "    <tr>\n",
       "      <th>0</th>\n",
       "      <td>j</td>\n",
       "      <td>j</td>\n",
       "      <td>G</td>\n",
       "      <td>G</td>\n",
       "      <td>0.880055</td>\n",
       "      <td>60.180000</td>\n",
       "      <td>100.000000</td>\n",
       "      <td>100.000000</td>\n",
       "      <td>CS</td>\n",
       "    </tr>\n",
       "    <tr>\n",
       "      <th>1</th>\n",
       "      <td>n</td>\n",
       "      <td>l</td>\n",
       "      <td>E</td>\n",
       "      <td>Q</td>\n",
       "      <td>0.736402</td>\n",
       "      <td>96.220001</td>\n",
       "      <td>89.762611</td>\n",
       "      <td>98.582039</td>\n",
       "      <td>TT</td>\n",
       "    </tr>\n",
       "    <tr>\n",
       "      <th>2</th>\n",
       "      <td>i</td>\n",
       "      <td>d</td>\n",
       "      <td>G</td>\n",
       "      <td>N</td>\n",
       "      <td>0.040571</td>\n",
       "      <td>31.870001</td>\n",
       "      <td>100.000000</td>\n",
       "      <td>100.000000</td>\n",
       "      <td>SC</td>\n",
       "    </tr>\n",
       "    <tr>\n",
       "      <th>3</th>\n",
       "      <td>d</td>\n",
       "      <td>i</td>\n",
       "      <td>T</td>\n",
       "      <td>V</td>\n",
       "      <td>0.021758</td>\n",
       "      <td>47.259998</td>\n",
       "      <td>100.000000</td>\n",
       "      <td>100.000000</td>\n",
       "      <td>CC</td>\n",
       "    </tr>\n",
       "    <tr>\n",
       "      <th>4</th>\n",
       "      <td>i</td>\n",
       "      <td>d</td>\n",
       "      <td>V</td>\n",
       "      <td>P</td>\n",
       "      <td>0.040571</td>\n",
       "      <td>38.200001</td>\n",
       "      <td>100.000000</td>\n",
       "      <td>93.366096</td>\n",
       "      <td>CC</td>\n",
       "    </tr>\n",
       "    <tr>\n",
       "      <th>...</th>\n",
       "      <td>...</td>\n",
       "      <td>...</td>\n",
       "      <td>...</td>\n",
       "      <td>...</td>\n",
       "      <td>...</td>\n",
       "      <td>...</td>\n",
       "      <td>...</td>\n",
       "      <td>...</td>\n",
       "      <td>...</td>\n",
       "    </tr>\n",
       "    <tr>\n",
       "      <th>671150</th>\n",
       "      <td>j</td>\n",
       "      <td>d</td>\n",
       "      <td>G</td>\n",
       "      <td>L</td>\n",
       "      <td>0.623739</td>\n",
       "      <td>95.459999</td>\n",
       "      <td>1.531394</td>\n",
       "      <td>20.793951</td>\n",
       "      <td>CC</td>\n",
       "    </tr>\n",
       "    <tr>\n",
       "      <th>671151</th>\n",
       "      <td>f</td>\n",
       "      <td>d</td>\n",
       "      <td>C</td>\n",
       "      <td>D</td>\n",
       "      <td>0.047665</td>\n",
       "      <td>95.379997</td>\n",
       "      <td>11.473963</td>\n",
       "      <td>100.000000</td>\n",
       "      <td>PS</td>\n",
       "    </tr>\n",
       "    <tr>\n",
       "      <th>671152</th>\n",
       "      <td>j</td>\n",
       "      <td>d</td>\n",
       "      <td>G</td>\n",
       "      <td>P</td>\n",
       "      <td>0.623739</td>\n",
       "      <td>80.699997</td>\n",
       "      <td>65.849922</td>\n",
       "      <td>88.452087</td>\n",
       "      <td>SP</td>\n",
       "    </tr>\n",
       "    <tr>\n",
       "      <th>671153</th>\n",
       "      <td>g</td>\n",
       "      <td>f</td>\n",
       "      <td>L</td>\n",
       "      <td>T</td>\n",
       "      <td>0.430306</td>\n",
       "      <td>79.760002</td>\n",
       "      <td>60.491493</td>\n",
       "      <td>46.452702</td>\n",
       "      <td>CC</td>\n",
       "    </tr>\n",
       "    <tr>\n",
       "      <th>671154</th>\n",
       "      <td>b</td>\n",
       "      <td>b</td>\n",
       "      <td>S</td>\n",
       "      <td>L</td>\n",
       "      <td>0.642419</td>\n",
       "      <td>54.230000</td>\n",
       "      <td>100.000000</td>\n",
       "      <td>95.778198</td>\n",
       "      <td>SC</td>\n",
       "    </tr>\n",
       "  </tbody>\n",
       "</table>\n",
       "<p>671155 rows × 9 columns</p>\n",
       "</div>"
      ],
      "text/plain": [
       "       PB1 PB2 AA1 AA2  expected_frequency      plDDT        RSA1        RSA2  \\\n",
       "0        j   j   G   G            0.880055  60.180000  100.000000  100.000000   \n",
       "1        n   l   E   Q            0.736402  96.220001   89.762611   98.582039   \n",
       "2        i   d   G   N            0.040571  31.870001  100.000000  100.000000   \n",
       "3        d   i   T   V            0.021758  47.259998  100.000000  100.000000   \n",
       "4        i   d   V   P            0.040571  38.200001  100.000000   93.366096   \n",
       "...     ..  ..  ..  ..                 ...        ...         ...         ...   \n",
       "671150   j   d   G   L            0.623739  95.459999    1.531394   20.793951   \n",
       "671151   f   d   C   D            0.047665  95.379997   11.473963  100.000000   \n",
       "671152   j   d   G   P            0.623739  80.699997   65.849922   88.452087   \n",
       "671153   g   f   L   T            0.430306  79.760002   60.491493   46.452702   \n",
       "671154   b   b   S   L            0.642419  54.230000  100.000000   95.778198   \n",
       "\n",
       "       S2_1-S2_2  \n",
       "0             CS  \n",
       "1             TT  \n",
       "2             SC  \n",
       "3             CC  \n",
       "4             CC  \n",
       "...          ...  \n",
       "671150        CC  \n",
       "671151        PS  \n",
       "671152        SP  \n",
       "671153        CC  \n",
       "671154        SC  \n",
       "\n",
       "[671155 rows x 9 columns]"
      ]
     },
     "execution_count": 13,
     "metadata": {},
     "output_type": "execute_result"
    }
   ],
   "source": [
    "df3 = concat_structures(df, list(('S2_1', 'S2_2')), 'S2_1-S2_2')\n",
    "df3"
   ]
  },
  {
   "cell_type": "code",
   "execution_count": 10,
   "id": "xFahY_kdnTBf",
   "metadata": {
    "id": "xFahY_kdnTBf"
   },
   "outputs": [],
   "source": [
    "import matplotlib.pyplot as plt\n",
    "\n",
    "def check_imbalance(target_attr):\n",
    "\n",
    "    if target_attr.dtype != 'category':\n",
    "        target_attr = target_attr.astype('category')\n",
    "\n",
    "    category_counts = target_attr.value_counts().head(len(target_attr.unique()))\n",
    "\n",
    "    plt.figure(figsize=(8, 6))\n",
    "    plt.bar(category_counts.index, category_counts.values)\n",
    "    plt.xlabel(target_attr.name)\n",
    "    plt.ylabel('Frequency')\n",
    "    plt.title(f\"Class Imbalance; The number of labels in the target attribute: {len(target_attr.unique())}\")\n",
    "\n",
    "    plt.xticks([])\n",
    "    plt.tight_layout()\n",
    "    plt.show()"
   ]
  },
  {
   "cell_type": "code",
   "execution_count": 11,
   "id": "1XJcl-snnX52",
   "metadata": {
    "colab": {
     "base_uri": "https://localhost:8080/",
     "height": 607
    },
    "id": "1XJcl-snnX52",
    "outputId": "49907f2e-bfe2-48ae-ed03-1c9e396d0264"
   },
   "outputs": [
    {
     "data": {
      "image/png": "[encoded data removed]",
      "text/plain": [
       "<Figure size 800x600 with 1 Axes>"
      ]
     },
     "metadata": {},
     "output_type": "display_data"
    }
   ],
   "source": [
    "check_imbalance(df1['AA1-AA2'])"
   ]
  },
  {
   "cell_type": "code",
   "execution_count": 12,
   "id": "uxw_YG5nnc9P",
   "metadata": {
    "colab": {
     "base_uri": "https://localhost:8080/",
     "height": 607
    },
    "id": "uxw_YG5nnc9P",
    "outputId": "73858389-9bae-4dcd-ba32-2e5cf64d3ab9"
   },
   "outputs": [
    {
     "data": {
      "image/png": "[encoded data removed]",
      "text/plain": [
       "<Figure size 800x600 with 1 Axes>"
      ]
     },
     "metadata": {},
     "output_type": "display_data"
    }
   ],
   "source": [
    "check_imbalance(df2['PB1-PB2'])"
   ]
  },
  {
   "cell_type": "code",
   "execution_count": 13,
   "id": "qDwcFRlznkWA",
   "metadata": {
    "colab": {
     "base_uri": "https://localhost:8080/",
     "height": 607
    },
    "id": "qDwcFRlznkWA",
    "outputId": "2b49aaf4-1ab6-4104-957c-7c707c9bf490"
   },
   "outputs": [
    {
     "data": {
      "image/png": "[encoded data removed]",
      "text/plain": [
       "<Figure size 800x600 with 1 Axes>"
      ]
     },
     "metadata": {},
     "output_type": "display_data"
    }
   ],
   "source": [
    "check_imbalance(df3['S2_1-S2_2'])"
   ]
  },
  {
   "cell_type": "markdown",
   "id": "Cgg7BtV3nuW9",
   "metadata": {
    "id": "Cgg7BtV3nuW9"
   },
   "source": [
    "##### We notice that in all three cases, one class is much more frequent than the others. Therefore, for some classifiers, it will be necessary to handle class imbalance. Since there are a large number of classes and one is more dominant, the best approach might be to apply techniques like under-sampling, over-sampling, or adjusting class weights to balance the classes."
   ]
  },
  {
   "cell_type": "markdown",
   "id": "cc127500-28f3-4da8-afce-4c782e427ccb",
   "metadata": {
    "id": "cc127500-28f3-4da8-afce-4c782e427ccb"
   },
   "source": [
    "# CatBoost"
   ]
  },
  {
   "cell_type": "code",
   "execution_count": 14,
   "id": "acb5d78c-3da4-418f-9db8-cc9d3f86e3ea",
   "metadata": {
    "id": "acb5d78c-3da4-418f-9db8-cc9d3f86e3ea"
   },
   "outputs": [],
   "source": [
    "from catboost import CatBoostClassifier\n",
    "from sklearn.model_selection import train_test_split"
   ]
  },
  {
   "cell_type": "code",
   "execution_count": 15,
   "id": "1bcd7d87-6647-4812-b506-1176ad82136b",
   "metadata": {
    "id": "1bcd7d87-6647-4812-b506-1176ad82136b"
   },
   "outputs": [],
   "source": [
    "def train_test(data):\n",
    "  target = data.columns[-1]\n",
    "  features = data.columns[:-1]\n",
    "  X = data[features]\n",
    "  y = data[target]\n",
    "\n",
    "  class_counts = y.value_counts()\n",
    "  valid_classes = class_counts[class_counts >= 2].index\n",
    "  X = X[y.isin(valid_classes)]\n",
    "  y = y[y.isin(valid_classes)]\n",
    "\n",
    "  X_train, X_test, y_train, y_test = train_test_split(X, y, test_size=0.4, random_state=42, stratify=y)\n",
    "  return X_train, X_test, y_train, y_test"
   ]
  },
  {
   "cell_type": "code",
   "execution_count": 16,
   "id": "v8xzAoieLGLX",
   "metadata": {
    "id": "v8xzAoieLGLX"
   },
   "outputs": [],
   "source": [
    "from sklearn.metrics import accuracy_score, precision_score, recall_score, f1_score\n",
    "\n",
    "def classification_report(y_test, y_pred):\n",
    "  accuracy = accuracy_score(y_test, y_pred)\n",
    "  precision = precision_score(y_test, y_pred, average='weighted', zero_division=1)\n",
    "  recall = recall_score(y_test, y_pred, average='weighted', zero_division=1)\n",
    "  f1 = f1_score(y_test, y_pred, average='weighted', zero_division=1)\n",
    "\n",
    "  metrics = {\n",
    "    'Metric': ['Accuracy', 'Precision', 'Recall', 'F1 Score'],\n",
    "    'Score': [accuracy, precision, recall, f1]\n",
    "  }\n",
    "\n",
    "  metrics_df = pd.DataFrame(metrics)\n",
    "  print(metrics_df.to_markdown(index=False))"
   ]
  },
  {
   "cell_type": "code",
   "execution_count": 17,
   "id": "97c96793-2ee9-4918-abbd-366caa1fabdd",
   "metadata": {},
   "outputs": [],
   "source": [
    "from sklearn.metrics import roc_curve, auc\n",
    "def plot_roc_curve(y_true, y_pred):\n",
    "    fpr, tpr, thresholds = roc_curve(y_true, y_pred)\n",
    "    roc_auc = auc(fpr, tpr)\n",
    "    \n",
    "    plt.figure(figsize=(8, 6))\n",
    "    plt.plot(fpr, tpr, color='darkorange', lw=2, label='ROC curve (AUC = %0.4f)' % roc_auc)\n",
    "    plt.plot([0, 1], [0, 1], color='navy', lw=2, linestyle='--') \n",
    "    plt.xlim([0.0, 1.0])\n",
    "    plt.ylim([0.0, 1.05])\n",
    "    plt.xlabel('False Positive Rate')\n",
    "    plt.ylabel('True Positive Rate')\n",
    "    plt.title('ROC curve')\n",
    "    plt.legend(loc=\"lower right\")\n",
    "    plt.grid(True)\n",
    "    plt.show()"
   ]
  },
  {
   "cell_type": "code",
   "execution_count": 18,
   "id": "ff8c3bc4-6b80-4564-a478-998a4ab68225",
   "metadata": {},
   "outputs": [],
   "source": [
    "from sklearn.metrics import confusion_matrix\n",
    "import seaborn as sns\n",
    "def conf_matrix(y_true, y_pred):\n",
    "    cm = confusion_matrix(y_true, y_pred)\n",
    "    sns.heatmap(cm, annot=True, fmt='d', cmap='Blues')\n",
    "    plt.xlabel('Predicted Label')\n",
    "    plt.ylabel('True Label')\n",
    "    plt.title('Confusion Matrix')\n",
    "    plt.show()"
   ]
  },
  {
   "cell_type": "code",
   "execution_count": 19,
   "id": "qQnuQgw8IWKQ",
   "metadata": {
    "id": "qQnuQgw8IWKQ"
   },
   "outputs": [],
   "source": [
    "def CBClassifier(data, iters, learning_rate, cat_features, verbose):\n",
    "  model = CatBoostClassifier(iterations=iters, learning_rate=learning_rate, depth=8, cat_features=cat_features, auto_class_weights='Balanced', verbose=verbose)\n",
    "\n",
    "  X_train, X_test, y_train, y_test = train_test(data)\n",
    "  print(X_train.shape, X_test.shape, y_train.shape, y_test.shape)\n",
    "\n",
    "  model.fit(X_train, y_train)\n",
    "\n",
    "  y_pred = model.predict(X_test)\n",
    "  classification_report(y_test, y_pred)\n",
    "\n",
    "  print(\"To check for potential overfitting, we will evaluate the model on training data as well.\")\n",
    "  y_pred = model.predict(X_train)\n",
    "  classification_report(y_train, y_pred)\n",
    "  conf_matrix(y_train, y_pred)\n"
   ]
  },
  {
   "cell_type": "markdown",
   "id": "a27fa627-3457-4f97-abf3-3e029097bb77",
   "metadata": {},
   "source": [
    "### Predicting amino acids"
   ]
  },
  {
   "cell_type": "code",
   "execution_count": null,
   "id": "KlO3CI_LLLsu",
   "metadata": {
    "colab": {
     "base_uri": "https://localhost:8080/"
    },
    "id": "KlO3CI_LLLsu",
    "outputId": "d5f703f6-f2bd-4b52-cd8e-1bf9289d18ab"
   },
   "outputs": [
    {
     "name": "stdout",
     "output_type": "stream",
     "text": [
      "(402693, 8) (268462, 8) (402693,) (268462,)\n"
     ]
    }
   ],
   "source": [
    "CBClassifier(df1, 50, 0.01, ['PB1', 'PB2', 'S2_1', 'S2_2'], 10)"
   ]
  },
  {
   "cell_type": "markdown",
   "id": "531fc72a-e979-47ee-ac76-6115e2a8c7f6",
   "metadata": {},
   "source": [
    "### Predicting protein blocks"
   ]
  },
  {
   "cell_type": "code",
   "execution_count": null,
   "id": "lzFMbYgTRPfQ",
   "metadata": {
    "colab": {
     "base_uri": "https://localhost:8080/"
    },
    "id": "lzFMbYgTRPfQ",
    "outputId": "4246f4bd-96e4-4357-dad3-fb8ba61e7e52"
   },
   "outputs": [],
   "source": [
    "CBClassifier(df2, 100, 0.01, ['AA1', 'AA2', 'S2_1', 'S2_2'], 20)"
   ]
  },
  {
   "cell_type": "markdown",
   "id": "293f9a02-7c17-4c0f-93f8-167b5f207a83",
   "metadata": {},
   "source": [
    "### Predicting secundary structures"
   ]
  },
  {
   "cell_type": "code",
   "execution_count": null,
   "id": "2001ff9a-b743-436c-8686-ea8876d4fbb4",
   "metadata": {},
   "outputs": [],
   "source": [
    "CBClassifier(df3, 150, 0.01, ['PB1', 'PB2', 'AA1', 'AA2'], 30)"
   ]
  },
  {
   "cell_type": "markdown",
   "id": "64554fa6-074a-4bed-875d-c78e2a1bb385",
   "metadata": {
    "id": "64554fa6-074a-4bed-875d-c78e2a1bb385",
    "jp-MarkdownHeadingCollapsed": true
   },
   "source": [
    "# RandomForest"
   ]
  },
  {
   "cell_type": "code",
   "execution_count": null,
   "id": "d8e86fdb-808a-485f-b93e-5824fdf7ec2a",
   "metadata": {
    "id": "d8e86fdb-808a-485f-b93e-5824fdf7ec2a"
   },
   "outputs": [],
   "source": [
    "from sklearn.ensemble import RandomForestClassifier\n",
    "from sklearn.preprocessing import OneHotEncoder\n",
    "from sklearn.compose import ColumnTransformer"
   ]
  },
  {
   "cell_type": "code",
   "execution_count": null,
   "id": "c759341c-776d-4ed5-9d8f-25eb3409bad1",
   "metadata": {
    "id": "c759341c-776d-4ed5-9d8f-25eb3409bad1"
   },
   "outputs": [],
   "source": [
    "preprocessor_aa = ColumnTransformer(\n",
    "    transformers=[\n",
    "        ('cat', OneHotEncoder(handle_unknown='ignore'), categorical_features_aa)\n",
    "    ],\n",
    "    remainder='passthrough'  # Keep numerical features as is\n",
    ")"
   ]
  },
  {
   "cell_type": "code",
   "execution_count": null,
   "id": "1772b4a5-08f0-4ffe-9be2-964dd5c1d925",
   "metadata": {
    "id": "1772b4a5-08f0-4ffe-9be2-964dd5c1d925"
   },
   "outputs": [],
   "source": [
    "X_train_aa_transformed = preprocessor_aa.fit_transform(X_train_aa)\n",
    "X_test_aa_transformed = preprocessor_aa.transform(X_test_aa)"
   ]
  },
  {
   "cell_type": "code",
   "execution_count": null,
   "id": "Y7rRY0C2vXCN",
   "metadata": {
    "id": "Y7rRY0C2vXCN"
   },
   "outputs": [],
   "source": [
    "from imblearn.under_sampling import NearMiss"
   ]
  },
  {
   "cell_type": "code",
   "execution_count": null,
   "id": "fQA_QSjlwWw-",
   "metadata": {
    "id": "fQA_QSjlwWw-"
   },
   "outputs": [],
   "source": [
    "nm1 = NearMiss(version=1, n_neighbors=3)"
   ]
  },
  {
   "cell_type": "code",
   "execution_count": null,
   "id": "EMwk12rLwcqP",
   "metadata": {
    "id": "EMwk12rLwcqP"
   },
   "outputs": [],
   "source": [
    "X_train_aa_resampled, y_train_aa_resampled = nm1.fit_resample(X_train_aa_transformed, y_train_aa)"
   ]
  },
  {
   "cell_type": "code",
   "execution_count": null,
   "id": "990ac971-3809-4f18-8bd9-3ff74f781806",
   "metadata": {
    "id": "990ac971-3809-4f18-8bd9-3ff74f781806"
   },
   "outputs": [],
   "source": [
    "model1_rf = RandomForestClassifier(n_estimators=100, max_depth=10, random_state=42)"
   ]
  },
  {
   "cell_type": "code",
   "execution_count": null,
   "id": "HM_3PP2VwvS7",
   "metadata": {
    "colab": {
     "base_uri": "https://localhost:8080/",
     "height": 80
    },
    "id": "HM_3PP2VwvS7",
    "outputId": "bb150d83-9aef-4467-984e-a23dfb1a2279"
   },
   "outputs": [],
   "source": [
    "model1_rf.fit(X_train_aa_resampled, y_train_aa_resampled)"
   ]
  },
  {
   "cell_type": "code",
   "execution_count": null,
   "id": "c7e3bd17-ef1d-4521-8e6e-51c1158d316e",
   "metadata": {
    "id": "c7e3bd17-ef1d-4521-8e6e-51c1158d316e"
   },
   "outputs": [],
   "source": [
    "y_pred_rf1 = model1_rf.predict(X_test_aa_transformed)"
   ]
  },
  {
   "cell_type": "code",
   "execution_count": null,
   "id": "U_vIFvoVxDvG",
   "metadata": {
    "colab": {
     "base_uri": "https://localhost:8080/"
    },
    "id": "U_vIFvoVxDvG",
    "outputId": "365adbbd-3397-4565-c845-00df68fc6786"
   },
   "outputs": [],
   "source": [
    "classification_report(y_test_aa, y_pred_rf1)"
   ]
  },
  {
   "cell_type": "code",
   "execution_count": null,
   "id": "yVgG1utS2DMk",
   "metadata": {
    "id": "yVgG1utS2DMk"
   },
   "outputs": [],
   "source": [
    "preprocessor_pb = ColumnTransformer(\n",
    "    transformers=[\n",
    "        ('cat', OneHotEncoder(handle_unknown='ignore'), categorical_features_pb)\n",
    "    ],\n",
    "    remainder='passthrough'\n",
    ")"
   ]
  },
  {
   "cell_type": "code",
   "execution_count": null,
   "id": "LHXQ8oB32My0",
   "metadata": {
    "id": "LHXQ8oB32My0"
   },
   "outputs": [],
   "source": [
    "X_train_pb_transformed = preprocessor_pb.fit_transform(X_train_pb)\n",
    "X_test_pb_transformed = preprocessor_pb.transform(X_test_pb)"
   ]
  },
  {
   "cell_type": "code",
   "execution_count": null,
   "id": "hjvLEPLG3_YW",
   "metadata": {
    "id": "hjvLEPLG3_YW"
   },
   "outputs": [],
   "source": [
    "nm2 = NearMiss(version=1, n_neighbors=1)"
   ]
  },
  {
   "cell_type": "code",
   "execution_count": null,
   "id": "pcvQoyL22lr7",
   "metadata": {
    "id": "pcvQoyL22lr7"
   },
   "outputs": [],
   "source": [
    "X_train_pb_resampled, y_train_pb_resampled = nm2.fit_resample(X_train_pb_transformed, y_train_pb)"
   ]
  },
  {
   "cell_type": "code",
   "execution_count": null,
   "id": "JMzs5ha921XB",
   "metadata": {
    "id": "JMzs5ha921XB"
   },
   "outputs": [],
   "source": [
    "model2_rf = RandomForestClassifier(n_estimators=150, max_depth=10, random_state=42)"
   ]
  },
  {
   "cell_type": "code",
   "execution_count": null,
   "id": "z63OEcOM252O",
   "metadata": {
    "colab": {
     "base_uri": "https://localhost:8080/",
     "height": 80
    },
    "id": "z63OEcOM252O",
    "outputId": "595a3faa-da2e-44d9-88de-8c8275f3605a"
   },
   "outputs": [],
   "source": [
    "model2_rf.fit(X_train_pb_resampled, y_train_pb_resampled)"
   ]
  },
  {
   "cell_type": "code",
   "execution_count": null,
   "id": "jP2tQ68z3Ejr",
   "metadata": {
    "id": "jP2tQ68z3Ejr"
   },
   "outputs": [],
   "source": [
    "y_pred_rf2 = model2_rf.predict(X_test_pb_transformed)"
   ]
  },
  {
   "cell_type": "code",
   "execution_count": null,
   "id": "ztlIZ4vw3PQa",
   "metadata": {
    "colab": {
     "base_uri": "https://localhost:8080/"
    },
    "id": "ztlIZ4vw3PQa",
    "outputId": "c4a07664-5f46-4bfc-8afe-eb5bbc16f670"
   },
   "outputs": [],
   "source": [
    "classification_report(y_test_pb, y_pred_rf2)"
   ]
  },
  {
   "cell_type": "code",
   "execution_count": null,
   "id": "ts4PSxac4nfJ",
   "metadata": {
    "id": "ts4PSxac4nfJ"
   },
   "outputs": [],
   "source": [
    "preprocessor_s2 = ColumnTransformer(\n",
    "    transformers=[\n",
    "        ('cat', OneHotEncoder(handle_unknown='ignore'), categorical_features_s2)\n",
    "    ],\n",
    "    remainder='passthrough'\n",
    ")"
   ]
  },
  {
   "cell_type": "code",
   "execution_count": null,
   "id": "ewXK9f5M4voy",
   "metadata": {
    "id": "ewXK9f5M4voy"
   },
   "outputs": [],
   "source": [
    "X_train_s2_transformed = preprocessor_s2.fit_transform(X_train_s2)\n",
    "X_test_s2_transformed = preprocessor_s2.transform(X_test_s2)"
   ]
  },
  {
   "cell_type": "code",
   "execution_count": null,
   "id": "GfnpCfE86gfw",
   "metadata": {
    "id": "GfnpCfE86gfw"
   },
   "outputs": [],
   "source": [
    "X_train_s2_resampled, y_train_s2_resampled = nm2.fit_resample(X_train_s2_transformed, y_train_s2)"
   ]
  },
  {
   "cell_type": "code",
   "execution_count": null,
   "id": "kH_OA-jT6q07",
   "metadata": {
    "id": "kH_OA-jT6q07"
   },
   "outputs": [],
   "source": [
    "model3_rf = RandomForestClassifier(n_estimators=200, max_depth=10, random_state=42)"
   ]
  },
  {
   "cell_type": "code",
   "execution_count": null,
   "id": "d-an_bhVMdRn",
   "metadata": {
    "colab": {
     "base_uri": "https://localhost:8080/",
     "height": 80
    },
    "id": "d-an_bhVMdRn",
    "outputId": "6418a4b3-b66a-41a7-ce17-56872b595c06"
   },
   "outputs": [],
   "source": [
    "model3_rf.fit(X_train_s2_resampled, y_train_s2_resampled)"
   ]
  },
  {
   "cell_type": "code",
   "execution_count": null,
   "id": "sS3srbPQ67tv",
   "metadata": {
    "id": "sS3srbPQ67tv"
   },
   "outputs": [],
   "source": [
    "y_pred_rf3 = model3_rf.predict(X_test_s2_transformed)"
   ]
  },
  {
   "cell_type": "code",
   "execution_count": null,
   "id": "-rX_2PRx7CWr",
   "metadata": {
    "colab": {
     "base_uri": "https://localhost:8080/"
    },
    "id": "-rX_2PRx7CWr",
    "outputId": "cd7f4a40-9f12-4715-ebf5-b22612799279"
   },
   "outputs": [],
   "source": [
    "classification_report(y_test_s2, y_pred_rf3)"
   ]
  },
  {
   "cell_type": "markdown",
   "id": "e0172d67-cca0-4255-818b-111767086e72",
   "metadata": {},
   "source": [
    "# Artificial Neural Network"
   ]
  },
  {
   "cell_type": "code",
   "execution_count": 2,
   "id": "c745804a-2c7f-49d5-b03e-7d370bd56fc8",
   "metadata": {},
   "outputs": [],
   "source": [
    "import pandas as pd\n",
    "import numpy as np\n",
    "from sklearn.preprocessing import OneHotEncoder, LabelEncoder, StandardScaler\n",
    "from sklearn.model_selection import train_test_split\n",
    "from sklearn.compose import ColumnTransformer\n",
    "from tensorflow.keras.models import Sequential\n",
    "from tensorflow.keras.layers import Dense, Dropout\n",
    "from tensorflow.keras.layers import Input\n",
    "from tensorflow.keras.callbacks import ModelCheckpoint, EarlyStopping\n",
    "from tensorflow.keras.utils import to_categorical\n",
    "import matplotlib.pyplot as plt\n",
    "from sklearn.utils.class_weight import compute_class_weight"
   ]
  },
  {
   "cell_type": "code",
   "execution_count": 25,
   "id": "29529605-3bf1-4ea1-ad14-6eaf209d7ffb",
   "metadata": {},
   "outputs": [],
   "source": [
    "def preprocessing(df, target_name, categorical_col, numerical_col):\n",
    "    # Split features & target\n",
    "    y = df[target_name]\n",
    "    X = df.drop(columns=[target_name])\n",
    "\n",
    "    # Encode target\n",
    "    le = LabelEncoder()\n",
    "    y_encoded = le.fit_transform(y)\n",
    "    \n",
    "    # Preprocessing\n",
    "    preprocessor = ColumnTransformer([\n",
    "        (\"cat\", OneHotEncoder(handle_unknown='ignore'), categorical_cols),\n",
    "        (\"num\", StandardScaler(), numerical_cols)\n",
    "    ])\n",
    "    \n",
    "    X_prepared = preprocessor.fit_transform(X)\n",
    "\n",
    "    # Train-test split\n",
    "    X_train, X_test, y_train, y_test = train_test_split(\n",
    "        X_prepared, y_encoded, test_size=0.2, random_state=42\n",
    "    )\n",
    "    print(X_train.shape)\n",
    "    print(X_test.shape)\n",
    "\n",
    "    classes = np.unique(y_train)\n",
    "    class_weights = compute_class_weight('balanced', classes=classes, y=y_train)\n",
    "    class_weight_dict = dict(zip(classes, class_weights))\n",
    "\n",
    "    input_dim = X_train.shape[1]\n",
    "    num_classes = len(np.unique(y_encoded))\n",
    "\n",
    "    y_train_cat = to_categorical(y_train, num_classes)\n",
    "    y_test_cat = to_categorical(y_test, num_classes)\n",
    "\n",
    "    return X_train, X_test, y_train_cat, y_test_cat, input_dim, num_classes, class_weight_dict"
   ]
  },
  {
   "cell_type": "code",
   "execution_count": 26,
   "id": "c49d7f6f-911a-49a3-9138-d2a9501773e3",
   "metadata": {},
   "outputs": [],
   "source": [
    "# Function to build model with hyperparameters\n",
    "def build_model(hidden_units1=128, hidden_units2=64, dropout_rate=0.3, learning_rate=0.001):\n",
    "    from tensorflow.keras.optimizers import Adam\n",
    "    model = Sequential()\n",
    "    model.add(Input(shape=(input_dim,)))\n",
    "    model.add(Dense(hidden_units1, activation='relu'))\n",
    "    model.add(Dropout(dropout_rate))\n",
    "    model.add(Dense(hidden_units2, activation='relu'))\n",
    "    model.add(Dropout(dropout_rate))\n",
    "    model.add(Dense(num_classes, activation='softmax'))\n",
    "\n",
    "    optimizer = Adam(learning_rate=learning_rate)\n",
    "    model.compile(optimizer=optimizer, loss='categorical_crossentropy', metrics=['accuracy'])\n",
    "    return model"
   ]
  },
  {
   "cell_type": "code",
   "execution_count": 27,
   "id": "d7c944db-f7f8-40aa-81c7-923c6a6f6adc",
   "metadata": {},
   "outputs": [],
   "source": [
    "def manual_grid_search():\n",
    "    # Callbacks\n",
    "    checkpoint = ModelCheckpoint(\n",
    "        'best_model.keras',\n",
    "        monitor='val_accuracy',\n",
    "        save_best_only=True,\n",
    "        mode='max',\n",
    "        verbose=1\n",
    "    )\n",
    "    \n",
    "    early_stop = EarlyStopping(monitor='val_loss', patience=5, restore_best_weights=True)\n",
    "    \n",
    "    # Hyperparameter options\n",
    "    param_grid = {\n",
    "        'hidden_units1': [64, 128],\n",
    "        'hidden_units2': [32, 64],\n",
    "        'dropout_rate': [0.3, 0.5],\n",
    "        'learning_rate': [0.001, 0.005]\n",
    "    }\n",
    "    \n",
    "    best_val_acc = 0\n",
    "    best_params = None\n",
    "    best_history = None\n",
    "    \n",
    "    # Manual grid search\n",
    "    for h1 in param_grid['hidden_units1']:\n",
    "        for h2 in param_grid['hidden_units2']:\n",
    "            for dr in param_grid['dropout_rate']:\n",
    "                for lr in param_grid['learning_rate']:\n",
    "                    print(f\"\\nTesting config: h1={h1}, h2={h2}, dropout={dr}, lr={lr}\")\n",
    "                    model = build_model(h1, h2, dr, lr)\n",
    "                    history = model.fit(\n",
    "                        X_train, y_train_cat,\n",
    "                        class_weight=class_weight_dict,\n",
    "                        validation_data=(X_test, y_test_cat),\n",
    "                        epochs=20,\n",
    "                        batch_size=512,\n",
    "                        callbacks=[checkpoint, early_stop],\n",
    "                        verbose=0\n",
    "                    )\n",
    "                    val_acc = max(history.history['val_accuracy'])\n",
    "                    print(f\"Validation accuracy: {val_acc:.4f}\")\n",
    "                    if val_acc > best_val_acc:\n",
    "                        best_val_acc = val_acc\n",
    "                        best_params = (h1, h2, dr, lr)\n",
    "                        best_history = history\n",
    "    \n",
    "    print(f\"\\nBest hyperparameters: h1={best_params[0]}, h2={best_params[1]}, \"\n",
    "          f\"dropout={best_params[2]}, lr={best_params[3]}\")\n",
    "    print(f\"Best validation accuracy: {best_val_acc:.4f}\")\n",
    "\n",
    "    return best_history"
   ]
  },
  {
   "cell_type": "code",
   "execution_count": 28,
   "id": "82ed4ab6-6b97-43c8-96dc-a3e45ad8ecde",
   "metadata": {},
   "outputs": [],
   "source": [
    "def plot_learning_curves(best_history):\n",
    "    \n",
    "    plt.figure(figsize=(12, 5))\n",
    "    \n",
    "    # Accuracy\n",
    "    plt.subplot(1, 2, 1)\n",
    "    plt.plot(best_history.history['accuracy'], label='Train Acc')\n",
    "    plt.plot(best_history.history['val_accuracy'], label='Val Acc')\n",
    "    plt.title(\"Accuracy over epochs\")\n",
    "    plt.xlabel(\"Epochs\")\n",
    "    plt.ylabel(\"Accuracy\")\n",
    "    plt.legend()\n",
    "    \n",
    "    # Loss\n",
    "    plt.subplot(1, 2, 2)\n",
    "    plt.plot(best_history.history['loss'], label='Train Loss')\n",
    "    plt.plot(best_history.history['val_loss'], label='Val Loss')\n",
    "    plt.title(\"Loss over epochs\")\n",
    "    plt.xlabel(\"Epochs\")\n",
    "    plt.ylabel(\"Loss\")\n",
    "    plt.legend()\n",
    "    \n",
    "    plt.tight_layout()\n",
    "    plt.show()"
   ]
  },
  {
   "cell_type": "markdown",
   "id": "85468ee6-55ec-42aa-acd9-631cd78e8395",
   "metadata": {},
   "source": [
    "### Predicting amino acids"
   ]
  },
  {
   "cell_type": "code",
   "execution_count": null,
   "id": "1cf65fc9-4919-40f7-be18-e70915a07c3d",
   "metadata": {},
   "outputs": [
    {
     "name": "stdout",
     "output_type": "stream",
     "text": [
      "(536924, 54)\n",
      "(134231, 54)\n",
      "\n",
      "Testing config: h1=64, h2=32, dropout=0.3, lr=0.001\n"
     ]
    }
   ],
   "source": [
    "# Categorical & numerical columns\n",
    "categorical_cols = ['PB1', 'PB2', 'S2_1', 'S2_2']\n",
    "numerical_cols = ['expected_frequency', 'plDDT', 'RSA1', 'RSA2']\n",
    "target_name = 'AA1-AA2'\n",
    "\n",
    "X_train, X_test, y_train_cat, y_test_cat, input_dim, num_classes, class_weight_dict = preprocessing(df1, target_name, categorical_cols, numerical_cols)\n",
    "best_history = manual_grid_search()"
   ]
  },
  {
   "cell_type": "code",
   "execution_count": null,
   "id": "7f689250-9064-4a8d-9224-e784dccd3729",
   "metadata": {},
   "outputs": [],
   "source": [
    "plot_learning_curves(best_history)"
   ]
  },
  {
   "cell_type": "markdown",
   "id": "7efc2b9a-e3cf-4a80-8b09-c04e9e92537a",
   "metadata": {},
   "source": [
    "### Predicting protein blocks"
   ]
  },
  {
   "cell_type": "code",
   "execution_count": null,
   "id": "beac6bc0-83b1-49ca-ad15-ca7ed41d809f",
   "metadata": {},
   "outputs": [],
   "source": [
    "categorical_cols = ['AA1', 'AA2', 'S2_1', 'S2_2']\n",
    "numerical_cols = ['expected_frequency', 'plDDT', 'RSA1', 'RSA2']\n",
    "target_name = 'PB1-PB2'\n",
    "\n",
    "X_train, X_test, y_train_cat, y_test_cat, input_dim, num_classes = preprocessing(df2, target_name, categorical_cols, numerical_cols)\n",
    "best_history = manual_grid_search()"
   ]
  },
  {
   "cell_type": "code",
   "execution_count": null,
   "id": "b6060afc-dd29-43c7-bf98-98021587dbcf",
   "metadata": {},
   "outputs": [],
   "source": [
    "plot_learning_curves(best_history)"
   ]
  },
  {
   "cell_type": "markdown",
   "id": "5ea67df4-9e17-492c-864e-d4999ad10586",
   "metadata": {},
   "source": [
    "### Predicting secondary structures"
   ]
  },
  {
   "cell_type": "code",
   "execution_count": null,
   "id": "e4c3847b-b049-4a99-8e8e-66243c42b9cf",
   "metadata": {
    "scrolled": true
   },
   "outputs": [],
   "source": [
    "categorical_cols = ['PB1', 'PB2', 'AA1', 'AA2']\n",
    "numerical_cols = ['expected_frequency', 'plDDT', 'RSA1', 'RSA2']\n",
    "target_name = 'S2_1-S2_2'\n",
    "\n",
    "X_train, X_test, y_train_cat, y_test_cat, input_dim, num_classes = preprocessing(df3, target_name, categorical_cols, numerical_cols)\n",
    "best_history = manual_grid_search()"
   ]
  },
  {
   "cell_type": "code",
   "execution_count": null,
   "id": "5c13601c-dc5b-49bc-9908-3323c14183d7",
   "metadata": {},
   "outputs": [],
   "source": [
    "plot_learning_curves(best_history)"
   ]
  }
 ],
 "metadata": {
  "accelerator": "GPU",
  "colab": {
   "gpuType": "T4",
   "provenance": []
  },
  "kernelspec": {
   "display_name": "Python 3 (ipykernel)",
   "language": "python",
   "name": "python3"
  },
  "language_info": {
   "codemirror_mode": {
    "name": "ipython",
    "version": 3
   },
   "file_extension": ".py",
   "mimetype": "text/x-python",
   "name": "python",
   "nbconvert_exporter": "python",
   "pygments_lexer": "ipython3",
   "version": "3.10.12"
  }
 },
 "nbformat": 4,
 "nbformat_minor": 5
}
