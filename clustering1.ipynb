{
 "cells": [
  {
   "cell_type": "code",
   "execution_count": null,
   "id": "829f202d-b698-499e-b4df-39eaab4d4fc4",
   "metadata": {
    "id": "829f202d-b698-499e-b4df-39eaab4d4fc4"
   },
   "outputs": [],
   "source": [
    "import pandas as pd\n",
    "import numpy as np\n",
    "import matplotlib.pyplot as plt\n",
    "import umap\n",
    "from sklearn.preprocessing import PowerTransformer, StandardScaler, LabelEncoder"
   ]
  },
  {
   "cell_type": "code",
   "execution_count": null,
   "id": "0d26831c-d779-415f-a1fd-75c30466aabd",
   "metadata": {
    "colab": {
     "base_uri": "https://localhost:8080/",
     "height": 444
    },
    "id": "0d26831c-d779-415f-a1fd-75c30466aabd",
    "outputId": "0c5db532-4e2e-4eab-ed2b-8295760bad30"
   },
   "outputs": [],
   "source": [
    "df = pd.read_csv(\"March_2024_AF2_01.txt\", sep=r\"\\s+\", header=None)\n",
    "df.columns = ['Protein_number', 'res_number', 'PB1', 'PB2', 'AA1', 'AA2', 'S2_1', 'S2_2', 'expected_frequency', 'plDDT', 'RSA1', 'RSA2']\n",
    "df"
   ]
  },
  {
   "cell_type": "code",
   "execution_count": null,
   "id": "d2646301-33ce-4977-a86e-3805b0ed2354",
   "metadata": {
    "id": "d2646301-33ce-4977-a86e-3805b0ed2354"
   },
   "outputs": [],
   "source": [
    "numerical_cols = ['expected_frequency', 'plDDT', 'RSA1', 'RSA2']\n",
    "categorical_cols = ['PB1', 'PB2', 'AA1', 'AA2', 'S2_1', 'S2_2']"
   ]
  },
  {
   "cell_type": "code",
   "execution_count": null,
   "id": "75SS9AEAbqTj",
   "metadata": {
    "colab": {
     "base_uri": "https://localhost:8080/",
     "height": 424
    },
    "id": "75SS9AEAbqTj",
    "outputId": "65a52852-6dc5-4e8a-eb3b-f14b254612c9"
   },
   "outputs": [],
   "source": [
    "# removing the columns that will not be included in the clustering\n",
    "df = df.drop('Protein_number', axis=1)\n",
    "df = df.drop('res_number', axis=1)\n",
    "df"
   ]
  },
  {
   "cell_type": "markdown",
   "id": "f2d4fd1b-d7de-4926-8242-bb47708db371",
   "metadata": {
    "id": "f2d4fd1b-d7de-4926-8242-bb47708db371"
   },
   "source": [
    "## Visualization using UMAP"
   ]
  },
  {
   "cell_type": "code",
   "execution_count": null,
   "id": "21171561-f473-4475-be2b-5ce8f67530fe",
   "metadata": {
    "id": "21171561-f473-4475-be2b-5ce8f67530fe"
   },
   "outputs": [],
   "source": [
    "df_umap = df.copy() # creating a copy for visualization purposes"
   ]
  },
  {
   "cell_type": "code",
   "execution_count": null,
   "id": "540571a1-a2c5-4cf9-8054-9286bcc2f656",
   "metadata": {
    "id": "540571a1-a2c5-4cf9-8054-9286bcc2f656"
   },
   "outputs": [],
   "source": [
    "# Numerical data is transformed using Yeo-Johnson transformation\n",
    "# to stabilize variance and make data more closely resemble a normal distribution\n",
    "\n",
    "pt = PowerTransformer(method='yeo-johnson')\n",
    "df_umap[numerical_cols] = pt.fit_transform(df_umap[numerical_cols])\n",
    "\n",
    "# Categorical data is transformed using Label Encoding\n",
    "for cat_col in categorical_cols:\n",
    "    le = LabelEncoder()\n",
    "    df_umap[cat_col] = le.fit_transform(df_umap[cat_col])\n",
    "\n",
    "# sample data and combining transformed categorical and numerical columns\n",
    "df_umap_sample = df_umap.sample(frac=0.1, random_state=42)\n",
    "df_umap = df_umap_sample[numerical_cols + categorical_cols].to_numpy()"
   ]
  },
  {
   "cell_type": "code",
   "execution_count": null,
   "id": "254d0146-1ea2-4265-8688-11e2d0c2b4ce",
   "metadata": {
    "colab": {
     "base_uri": "https://localhost:8080/",
     "height": 567
    },
    "id": "254d0146-1ea2-4265-8688-11e2d0c2b4ce",
    "outputId": "e4bbc1d8-8a26-457f-8200-a442ef664988"
   },
   "outputs": [],
   "source": [
    "umap = umap.UMAP(n_components=2, n_neighbors=10, min_dist=0.3)\n",
    "embedding = umap.fit_transform(df_umap)\n",
    "\n",
    "plt.figure(figsize=(10, 6))\n",
    "plt.scatter(embedding[:, 0], embedding[:, 1], s=2, alpha=1.0, c='green')\n",
    "plt.title('UMAP Visualization (Yeo-Johnson + Label Encoded)')\n",
    "plt.xlabel('umap1')\n",
    "plt.ylabel('umap2')\n",
    "plt.tight_layout()\n",
    "plt.show()"
   ]
  },
  {
   "cell_type": "markdown",
   "id": "fb7bf6b2-d247-4bbc-a5df-32218bfa67c5",
   "metadata": {
    "id": "fb7bf6b2-d247-4bbc-a5df-32218bfa67c5"
   },
   "source": [
    "#### The UMAP 2D visualization reveals a non-random structure, with noticeable local groupings of data points.  \n",
    "#### This suggests that the dataset contains underlying patterns that may be captured through clustering in the full feature space, even though the visualization was generated from sampled data."
   ]
  },
  {
   "cell_type": "markdown",
   "id": "f4030a05-25ec-49a0-8606-5eae04bd97d8",
   "metadata": {
    "id": "f4030a05-25ec-49a0-8606-5eae04bd97d8"
   },
   "source": [
    "## K-Prototypes clustering"
   ]
  },
  {
   "cell_type": "code",
   "execution_count": null,
   "id": "7400305b-6a58-47a2-84ce-ea483cee9e00",
   "metadata": {
    "colab": {
     "base_uri": "https://localhost:8080/",
     "height": 441
    },
    "id": "7400305b-6a58-47a2-84ce-ea483cee9e00",
    "outputId": "7f735c04-63e9-4047-c3f5-87dd226f7ed5"
   },
   "outputs": [],
   "source": [
    "# for k-prototypes categorical data doesn’t need any pre-processing, we only need array with indices of categorical columns\n",
    "kprot_df = df.copy()\n",
    "\n",
    "scaler = StandardScaler()\n",
    "kprot_df[numerical_cols] = scaler.fit_transform(kprot_df[numerical_cols])\n",
    "\n",
    "categorical_cols_indices = [kprot_df.columns.get_loc(col) for col in categorical_cols]\n",
    "print(categorical_cols_indices)\n",
    "kprot_df"
   ]
  },
  {
   "cell_type": "code",
   "execution_count": null,
   "id": "6940ff2f-3d3f-443b-bb6b-96487ff1318c",
   "metadata": {
    "id": "6940ff2f-3d3f-443b-bb6b-96487ff1318c"
   },
   "outputs": [],
   "source": [
    "from kmodes.kprototypes import KPrototypes\n",
    "\n",
    "kproto = KPrototypes(n_clusters= 10, init='Cao')\n",
    "clusters = kproto.fit_predict(kprot_df.to_numpy(), categorical=categorical_cols_indices)"
   ]
  },
  {
   "cell_type": "code",
   "execution_count": null,
   "id": "YmkY6Zms1-01",
   "metadata": {
    "colab": {
     "base_uri": "https://localhost:8080/"
    },
    "id": "YmkY6Zms1-01",
    "outputId": "10efa9a4-7188-4260-dfe5-ccf46fd60614"
   },
   "outputs": [],
   "source": [
    "print(kproto.cost_)"
   ]
  },
  {
   "cell_type": "code",
   "execution_count": null,
   "id": "6ea79d7b-962b-472d-a8df-65057cc3f614",
   "metadata": {
    "colab": {
     "base_uri": "https://localhost:8080/",
     "height": 567
    },
    "id": "6ea79d7b-962b-472d-a8df-65057cc3f614",
    "outputId": "bb8c5650-cb49-437f-93cc-5a78fad6c03a"
   },
   "outputs": [],
   "source": [
    "# Visualization of the clustering on sampled data\n",
    "sample_indices = df_umap_sample.index\n",
    "clusters_sample = np.array(clusters)[sample_indices]\n",
    "\n",
    "plt.figure(figsize=(10, 6))\n",
    "plt.scatter(\n",
    "    embedding[:, 0],\n",
    "    embedding[:, 1],\n",
    "    c=clusters_sample,\n",
    "    cmap='tab10',\n",
    "    s=5,\n",
    "    alpha=0.9\n",
    ")\n",
    "plt.title('UMAP Visualization of Clusters (KPrototypes, k=8)')\n",
    "plt.xlabel('umap1')\n",
    "plt.ylabel('umap2')\n",
    "plt.tight_layout()\n",
    "plt.show()"
   ]
  },
  {
   "cell_type": "code",
   "execution_count": null,
   "id": "9aNfS3lmx726",
   "metadata": {
    "colab": {
     "base_uri": "https://localhost:8080/"
    },
    "id": "9aNfS3lmx726",
    "outputId": "931cd4ad-06a4-4614-c549-42a8c0a12232"
   },
   "outputs": [],
   "source": [
    "import gower\n",
    "from sklearn.metrics import silhouette_score\n",
    "\n",
    "X = kprot_df.sample(frac=0.04, random_state=42)\n",
    "gower_dist = gower.gower_matrix(X.to_numpy())\n",
    "\n",
    "sample_indices = X.index\n",
    "clusters_sample = np.array(clusters)[sample_indices]\n",
    "sil_score = silhouette_score(gower_dist, clusters_sample, metric='precomputed')\n",
    "\n",
    "print(f\"Silhouette score (Gower + KPrototypes): {sil_score:.4f}\")"
   ]
  },
  {
   "cell_type": "markdown",
   "id": "ublwciyA00lw",
   "metadata": {
    "id": "ublwciyA00lw"
   },
   "source": [
    "#### The silhouette score suggest weak but present clustering structure, indicating partial separation between clusters."
   ]
  }
 ],
 "metadata": {
  "colab": {
   "provenance": []
  },
  "kernelspec": {
   "display_name": "Python 3 (ipykernel)",
   "language": "python",
   "name": "python3"
  },
  "language_info": {
   "codemirror_mode": {
    "name": "ipython",
    "version": 3
   },
   "file_extension": ".py",
   "mimetype": "text/x-python",
   "name": "python",
   "nbconvert_exporter": "python",
   "pygments_lexer": "ipython3",
   "version": "3.13.5"
  }
 },
 "nbformat": 4,
 "nbformat_minor": 5
}
